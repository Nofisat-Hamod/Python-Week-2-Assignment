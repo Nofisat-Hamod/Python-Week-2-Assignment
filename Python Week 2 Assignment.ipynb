{
 "cells": [
  {
   "cell_type": "markdown",
   "id": "d720b79e-d0e0-4108-8535-c79f69d442d3",
   "metadata": {},
   "source": [
    "### Instructions\n",
    "\n",
    "1. Create an empty list called `my_list`.\n",
    "2. Append the following elements to `my_list: 10, 20, 30, 40`.\n",
    "3. Insert the value `15` at the second position in the list.\n",
    "4. Extend my_list with another list: `[50, 60, 70]`.\n",
    "5. Remove the last element from my_list.\n",
    "6. Sort my_list in ascending order.\n",
    "7. Find and print the index of the value 30 in my_list."
   ]
  },
  {
   "cell_type": "code",
   "execution_count": 1,
   "id": "7980bf32-f683-4bbb-be93-6a9e5f5cf57b",
   "metadata": {},
   "outputs": [],
   "source": [
    "# Create an empty list called my_list\n",
    "\n",
    "my_list = []"
   ]
  },
  {
   "cell_type": "code",
   "execution_count": 2,
   "id": "7f380a57-4d64-4695-b072-bdccf240828d",
   "metadata": {},
   "outputs": [
    {
     "name": "stdout",
     "output_type": "stream",
     "text": [
      "<class 'list'>\n"
     ]
    }
   ],
   "source": [
    "print(type(my_list))"
   ]
  },
  {
   "cell_type": "markdown",
   "id": "ace17c9f-77d9-4de7-90f5-a1f9ae1e359e",
   "metadata": {},
   "source": [
    "> Append the following elements to my_list: 10, 20, 30, 40"
   ]
  },
  {
   "cell_type": "code",
   "execution_count": 3,
   "id": "d1068664-498a-4485-908b-9f1dd54c8868",
   "metadata": {},
   "outputs": [
    {
     "data": {
      "text/plain": [
       "[10]"
      ]
     },
     "execution_count": 3,
     "metadata": {},
     "output_type": "execute_result"
    }
   ],
   "source": [
    "my_list.append(10)\n",
    "\n",
    "my_list"
   ]
  },
  {
   "cell_type": "code",
   "execution_count": 6,
   "id": "9cd1e855-03d1-4211-a43b-2a70e4079ed5",
   "metadata": {},
   "outputs": [
    {
     "data": {
      "text/plain": [
       "[10, 20]"
      ]
     },
     "execution_count": 6,
     "metadata": {},
     "output_type": "execute_result"
    }
   ],
   "source": [
    "my_list.append(20)\n",
    "\n",
    "my_list"
   ]
  },
  {
   "cell_type": "code",
   "execution_count": 7,
   "id": "8bf87f24-ed2f-4f11-8cc2-f1cf5f6a3c7d",
   "metadata": {},
   "outputs": [
    {
     "data": {
      "text/plain": [
       "[10, 20, 30]"
      ]
     },
     "execution_count": 7,
     "metadata": {},
     "output_type": "execute_result"
    }
   ],
   "source": [
    "my_list.append(30)\n",
    "\n",
    "my_list"
   ]
  },
  {
   "cell_type": "code",
   "execution_count": 8,
   "id": "6cf68fd3-e644-47c9-83c5-a934c0c74b47",
   "metadata": {},
   "outputs": [
    {
     "data": {
      "text/plain": [
       "[10, 20, 30, 40]"
      ]
     },
     "execution_count": 8,
     "metadata": {},
     "output_type": "execute_result"
    }
   ],
   "source": [
    "my_list.append(40)\n",
    "\n",
    "my_list"
   ]
  },
  {
   "cell_type": "markdown",
   "id": "b521f0cf-466c-4b10-9375-aeb1cfd78fed",
   "metadata": {},
   "source": [
    "> Insert the value 15 at the second position in the list."
   ]
  },
  {
   "cell_type": "code",
   "execution_count": 9,
   "id": "cea04a26-5f7f-4001-8140-345ab8b8b19b",
   "metadata": {},
   "outputs": [
    {
     "data": {
      "text/plain": [
       "[10, 15, 20, 30, 40]"
      ]
     },
     "execution_count": 9,
     "metadata": {},
     "output_type": "execute_result"
    }
   ],
   "source": [
    "my_list.insert(1,15)\n",
    "\n",
    "my_list"
   ]
  },
  {
   "cell_type": "markdown",
   "id": "44162b76-2256-4416-a6f3-210aea574877",
   "metadata": {},
   "source": [
    "> Extend my_list with another list: `[50, 60, 70]`"
   ]
  },
  {
   "cell_type": "code",
   "execution_count": 10,
   "id": "6f450115-113d-4833-814f-c784a96c6028",
   "metadata": {},
   "outputs": [
    {
     "data": {
      "text/plain": [
       "[10, 15, 20, 30, 40, 50, 60, 70]"
      ]
     },
     "execution_count": 10,
     "metadata": {},
     "output_type": "execute_result"
    }
   ],
   "source": [
    "my_list.extend([50, 60, 70])\n",
    "\n",
    "my_list"
   ]
  },
  {
   "cell_type": "markdown",
   "id": "28f72470-4cc1-4c33-b75f-43272a0cf5d9",
   "metadata": {},
   "source": [
    "> Remove the last element from my_list"
   ]
  },
  {
   "cell_type": "code",
   "execution_count": 11,
   "id": "94d11b5e-bab2-4de6-ad63-daba367cb674",
   "metadata": {},
   "outputs": [
    {
     "data": {
      "text/plain": [
       "[10, 15, 20, 30, 40, 50, 60]"
      ]
     },
     "execution_count": 11,
     "metadata": {},
     "output_type": "execute_result"
    }
   ],
   "source": [
    "del my_list[-1]\n",
    "\n",
    "my_list"
   ]
  },
  {
   "cell_type": "markdown",
   "id": "cacf19bd-934b-44c2-84a7-e9e773394774",
   "metadata": {},
   "source": [
    "> Sort my_list in ascending order"
   ]
  },
  {
   "cell_type": "code",
   "execution_count": 12,
   "id": "7466392e-8b28-4094-bba1-91b4bb017d7b",
   "metadata": {},
   "outputs": [
    {
     "data": {
      "text/plain": [
       "[10, 15, 20, 30, 40, 50, 60]"
      ]
     },
     "execution_count": 12,
     "metadata": {},
     "output_type": "execute_result"
    }
   ],
   "source": [
    "my_list.sort()\n",
    "\n",
    "my_list"
   ]
  },
  {
   "cell_type": "markdown",
   "id": "bf7abdc0-3a15-47a6-b640-43ca15f6fe9f",
   "metadata": {},
   "source": [
    "> Find and print the index of the value 30 in my_list"
   ]
  },
  {
   "cell_type": "code",
   "execution_count": 13,
   "id": "67a625c2-117b-42df-8002-6bf9355228b2",
   "metadata": {},
   "outputs": [
    {
     "data": {
      "text/plain": [
       "3"
      ]
     },
     "execution_count": 13,
     "metadata": {},
     "output_type": "execute_result"
    }
   ],
   "source": [
    "my_list.index(30)\n"
   ]
  }
 ],
 "metadata": {
  "kernelspec": {
   "display_name": "Python 3 (ipykernel)",
   "language": "python",
   "name": "python3"
  },
  "language_info": {
   "codemirror_mode": {
    "name": "ipython",
    "version": 3
   },
   "file_extension": ".py",
   "mimetype": "text/x-python",
   "name": "python",
   "nbconvert_exporter": "python",
   "pygments_lexer": "ipython3",
   "version": "3.13.2"
  }
 },
 "nbformat": 4,
 "nbformat_minor": 5
}
